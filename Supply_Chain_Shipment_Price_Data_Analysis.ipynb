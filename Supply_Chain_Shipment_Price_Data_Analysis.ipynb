{
  "nbformat": 4,
  "nbformat_minor": 0,
  "metadata": {
    "colab": {
      "name": "Supply Chain Shipment Price Data Analysis.ipynb",
      "provenance": [],
      "authorship_tag": "ABX9TyMG8AeTJxsCXvvaRxSQyT16",
      "include_colab_link": true
    },
    "kernelspec": {
      "name": "python3",
      "display_name": "Python 3"
    },
    "language_info": {
      "name": "python"
    }
  },
  "cells": [
    {
      "cell_type": "markdown",
      "metadata": {
        "id": "view-in-github",
        "colab_type": "text"
      },
      "source": [
        "<a href=\"https://colab.research.google.com/github/Aleena-Mishra-10/Supply-Chain-Shipment-Price-Data-Analysis/blob/main/Supply_Chain_Shipment_Price_Data_Analysis.ipynb\" target=\"_parent\"><img src=\"https://colab.research.google.com/assets/colab-badge.svg\" alt=\"Open In Colab\"/></a>"
      ]
    },
    {
      "cell_type": "code",
      "execution_count": 1,
      "metadata": {
        "colab": {
          "resources": {
            "http://localhost:8080/nbextensions/google.colab/files.js": {
              "data": "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",
              "ok": true,
              "headers": [
                [
                  "content-type",
                  "application/javascript"
                ]
              ],
              "status": 200,
              "status_text": ""
            }
          },
          "base_uri": "https://localhost:8080/",
          "height": 91
        },
        "id": "oEh8NHbht4yK",
        "outputId": "d139b75a-0ec1-4d70-9cf2-f07a622f0a5f"
      },
      "outputs": [
        {
          "output_type": "display_data",
          "data": {
            "text/plain": [
              "<IPython.core.display.HTML object>"
            ],
            "text/html": [
              "\n",
              "     <input type=\"file\" id=\"files-c756df73-b4f5-4b99-883e-c2df2f20373d\" name=\"files[]\" multiple disabled\n",
              "        style=\"border:none\" />\n",
              "     <output id=\"result-c756df73-b4f5-4b99-883e-c2df2f20373d\">\n",
              "      Upload widget is only available when the cell has been executed in the\n",
              "      current browser session. Please rerun this cell to enable.\n",
              "      </output>\n",
              "      <script src=\"/nbextensions/google.colab/files.js\"></script> "
            ]
          },
          "metadata": {}
        },
        {
          "output_type": "stream",
          "name": "stdout",
          "text": [
            "Saving kaggle.json to kaggle.json\n",
            "User uploaded file \"kaggle.json\" with length 68 bytes\n"
          ]
        }
      ],
      "source": [
        "from google.colab import files\n",
        "\n",
        "uploaded = files.upload()\n",
        "\n",
        "for fn in uploaded.keys():\n",
        "  print('User uploaded file \"{name}\" with length {length} bytes'.format(\n",
        "      name=fn, length=len(uploaded[fn])))"
      ]
    },
    {
      "cell_type": "code",
      "source": [
        "!mkdir ~p ~/.kaggle\n",
        "!cp kaggle.json ~/.kaggle/\n",
        "!chmod 600 ~/.kaggle/kaggle.json"
      ],
      "metadata": {
        "id": "gFifQVMbvYie"
      },
      "execution_count": 2,
      "outputs": []
    },
    {
      "cell_type": "code",
      "source": [
        "!kaggle datasets download -d divyeshardeshana/supply-chain-shipment-pricing-data"
      ],
      "metadata": {
        "colab": {
          "base_uri": "https://localhost:8080/"
        },
        "id": "HsIRJBRPvbo_",
        "outputId": "167ba45f-f3d0-4002-ce2d-f43acdac1153"
      },
      "execution_count": 3,
      "outputs": [
        {
          "output_type": "stream",
          "name": "stdout",
          "text": [
            "Downloading supply-chain-shipment-pricing-data.zip to /content\n",
            "\r  0% 0.00/581k [00:00<?, ?B/s]\n",
            "\r100% 581k/581k [00:00<00:00, 82.8MB/s]\n"
          ]
        }
      ]
    },
    {
      "cell_type": "code",
      "source": [
        "from zipfile import ZipFile\n",
        "file_name=\"/content/supply-chain-shipment-pricing-data.zip\"\n",
        "\n",
        "with ZipFile(file_name,'r') as zip:\n",
        "  zip.extractall()\n",
        "  print('Done')"
      ],
      "metadata": {
        "colab": {
          "base_uri": "https://localhost:8080/"
        },
        "id": "iyqFJCv8vpv4",
        "outputId": "2fd3bbf1-ce82-4f0f-8d38-87ad29eeb710"
      },
      "execution_count": 4,
      "outputs": [
        {
          "output_type": "stream",
          "name": "stdout",
          "text": [
            "Done\n"
          ]
        }
      ]
    },
    {
      "cell_type": "markdown",
      "source": [
        "## Supply Chain Shipment Pricing Data - Data Analysis \n",
        "Dataset Description: This data set provides supply chain health commodity shipment and pricing data.\n",
        "\n",
        "\n",
        "Following are steps for Data Analysis and Modeling\n",
        "\n",
        "\n",
        "*  Import Packages\n",
        "\n",
        "*   Import CSV file\n",
        "\n",
        "*   Check Total Records in CSV file\n",
        "\n",
        "*   Check DataType of CSV file\n",
        "*   Print first 10 and last 10 recods from DataSet\n",
        "\n",
        "\n",
        "*   Total 10 Country wise count with graph\n",
        "\n",
        "\n",
        "*  Total Pack Price for Top 15 Countries with graph\n",
        "\n",
        "\n",
        "*  First Line Designation Wise Count with graph\n",
        "\n",
        "*   Shipment Mode percentage wise Pie Chart\n",
        "\n",
        "*  Unquie Manufacturing Site Names\n",
        "\n",
        "*  Shipment Mode, Min and Mean value for Air\n",
        "*   Top 10 Manufacturing Site for all Shipment Mode with Graph\n",
        "\n",
        "\n",
        "*   Top 10 Manufacturing Site for Air Shipment Mode with Graph\n",
        "\n",
        "\n",
        "*   Pack Price analysis using Distributions and Plot Graph\n",
        "\n",
        "\n",
        "*   Shipment Mode and Pack Price in Bar Plot Graph\n",
        "\n",
        "Now, lets begin with Data!!!"
      ],
      "metadata": {
        "id": "sCkq0iJoyrx4"
      }
    },
    {
      "cell_type": "markdown",
      "source": [
        "## Import Packages"
      ],
      "metadata": {
        "id": "cmtHqnHPzq2t"
      }
    },
    {
      "cell_type": "code",
      "source": [
        "import pandas as pd\n",
        "import numpy as np\n",
        "from decimal import Decimal\n",
        "import matplotlib.pyplot as plt\n",
        "%matplotlib inline\n",
        "import seaborn as sn\n",
        "import os\n",
        "import plotly.graph_objs as go\n",
        "import plotly.offline as py\n",
        "py.init_notebook_mode(connected=True)\n",
        "pd.options.mode.chained_assignment = None\n",
        "pd.options.display.max_columns = 9999\n",
        "pd.options.display.float_format = '{:20,.2f}'.format"
      ],
      "metadata": {
        "colab": {
          "base_uri": "https://localhost:8080/",
          "height": 17
        },
        "id": "iLtma3TyyhuT",
        "outputId": "d6866dcc-dcf3-450d-c5aa-e2ce0483f3c3"
      },
      "execution_count": 5,
      "outputs": [
        {
          "output_type": "display_data",
          "data": {
            "text/html": [
              "        <script type=\"text/javascript\">\n",
              "        window.PlotlyConfig = {MathJaxConfig: 'local'};\n",
              "        if (window.MathJax) {MathJax.Hub.Config({SVG: {font: \"STIX-Web\"}});}\n",
              "        if (typeof require !== 'undefined') {\n",
              "        require.undef(\"plotly\");\n",
              "        requirejs.config({\n",
              "            paths: {\n",
              "                'plotly': ['https://cdn.plot.ly/plotly-2.8.3.min']\n",
              "            }\n",
              "        });\n",
              "        require(['plotly'], function(Plotly) {\n",
              "            window._Plotly = Plotly;\n",
              "        });\n",
              "        }\n",
              "        </script>\n",
              "        "
            ]
          },
          "metadata": {}
        }
      ]
    },
    {
      "cell_type": "markdown",
      "source": [
        "## Import CSV file"
      ],
      "metadata": {
        "id": "-d6KzNaMz0RM"
      }
    },
    {
      "cell_type": "code",
      "source": [
        "DataSet = pd.read_csv('/content/SCMS_Delivery_History_Dataset.csv').fillna(0)"
      ],
      "metadata": {
        "id": "kllcrIc4v0QO"
      },
      "execution_count": 6,
      "outputs": []
    },
    {
      "cell_type": "markdown",
      "source": [
        "## Check Total Records in CSV file"
      ],
      "metadata": {
        "id": "q1uk_uK20Feh"
      }
    },
    {
      "cell_type": "code",
      "source": [
        "TotalRowCount = len(DataSet)\n",
        "print(\"Total Number of Data Count :\", TotalRowCount)"
      ],
      "metadata": {
        "colab": {
          "base_uri": "https://localhost:8080/"
        },
        "id": "dqBJ7Rz8z9Ao",
        "outputId": "ca468038-0c7d-4876-81b1-dcc9a8a02b10"
      },
      "execution_count": 7,
      "outputs": [
        {
          "output_type": "stream",
          "name": "stdout",
          "text": [
            "Total Number of Data Count : 10324\n"
          ]
        }
      ]
    },
    {
      "cell_type": "markdown",
      "source": [
        "## Check DataType of CSV file"
      ],
      "metadata": {
        "id": "xTawGQEx0Rfx"
      }
    },
    {
      "cell_type": "code",
      "source": [
        "DataSet.dtypes"
      ],
      "metadata": {
        "colab": {
          "base_uri": "https://localhost:8080/"
        },
        "id": "lZwjhRxe0OIp",
        "outputId": "97618c05-1811-4dcd-9a0b-291d36c3f84c"
      },
      "execution_count": 8,
      "outputs": [
        {
          "output_type": "execute_result",
          "data": {
            "text/plain": [
              "ID                                int64\n",
              "Project Code                     object\n",
              "PQ #                             object\n",
              "PO / SO #                        object\n",
              "ASN/DN #                         object\n",
              "Country                          object\n",
              "Managed By                       object\n",
              "Fulfill Via                      object\n",
              "Vendor INCO Term                 object\n",
              "Shipment Mode                    object\n",
              "PQ First Sent to Client Date     object\n",
              "PO Sent to Vendor Date           object\n",
              "Scheduled Delivery Date          object\n",
              "Delivered to Client Date         object\n",
              "Delivery Recorded Date           object\n",
              "Product Group                    object\n",
              "Sub Classification               object\n",
              "Vendor                           object\n",
              "Item Description                 object\n",
              "Molecule/Test Type               object\n",
              "Brand                            object\n",
              "Dosage                           object\n",
              "Dosage Form                      object\n",
              "Unit of Measure (Per Pack)        int64\n",
              "Line Item Quantity                int64\n",
              "Line Item Value                 float64\n",
              "Pack Price                      float64\n",
              "Unit Price                      float64\n",
              "Manufacturing Site               object\n",
              "First Line Designation           object\n",
              "Weight (Kilograms)               object\n",
              "Freight Cost (USD)               object\n",
              "Line Item Insurance (USD)       float64\n",
              "dtype: object"
            ]
          },
          "metadata": {},
          "execution_count": 8
        }
      ]
    },
    {
      "cell_type": "markdown",
      "source": [
        "## Print first 10 and last 10 recods from DataSet"
      ],
      "metadata": {
        "id": "turn0Aqq0hoa"
      }
    },
    {
      "cell_type": "code",
      "source": [
        "DataSet.head(10)"
      ],
      "metadata": {
        "colab": {
          "base_uri": "https://localhost:8080/",
          "height": 982
        },
        "id": "aWciFKfq0VUY",
        "outputId": "a7573e63-af8b-47c3-efd2-f13f9ff2d7b0"
      },
      "execution_count": 9,
      "outputs": [
        {
          "output_type": "execute_result",
          "data": {
            "text/plain": [
              "   ID Project Code            PQ # PO / SO # ASN/DN #        Country  \\\n",
              "0   1   100-CI-T01  Pre-PQ Process    SCMS-4    ASN-8  Côte d'Ivoire   \n",
              "1   3   108-VN-T01  Pre-PQ Process   SCMS-13   ASN-85        Vietnam   \n",
              "2   4   100-CI-T01  Pre-PQ Process   SCMS-20   ASN-14  Côte d'Ivoire   \n",
              "3  15   108-VN-T01  Pre-PQ Process   SCMS-78   ASN-50        Vietnam   \n",
              "4  16   108-VN-T01  Pre-PQ Process   SCMS-81   ASN-55        Vietnam   \n",
              "5  23   112-NG-T01  Pre-PQ Process   SCMS-87   ASN-57        Nigeria   \n",
              "6  44   110-ZM-T01  Pre-PQ Process  SCMS-139  ASN-130         Zambia   \n",
              "7  45   109-TZ-T01  Pre-PQ Process  SCMS-140   ASN-94       Tanzania   \n",
              "8  46   112-NG-T01  Pre-PQ Process  SCMS-156   ASN-93        Nigeria   \n",
              "9  47   110-ZM-T01  Pre-PQ Process  SCMS-165  ASN-199         Zambia   \n",
              "\n",
              "  Managed By  Fulfill Via Vendor INCO Term Shipment Mode  \\\n",
              "0   PMO - US  Direct Drop              EXW           Air   \n",
              "1   PMO - US  Direct Drop              EXW           Air   \n",
              "2   PMO - US  Direct Drop              FCA           Air   \n",
              "3   PMO - US  Direct Drop              EXW           Air   \n",
              "4   PMO - US  Direct Drop              EXW           Air   \n",
              "5   PMO - US  Direct Drop              EXW           Air   \n",
              "6   PMO - US  Direct Drop              DDU           Air   \n",
              "7   PMO - US  Direct Drop              EXW           Air   \n",
              "8   PMO - US  Direct Drop              EXW           Air   \n",
              "9   PMO - US  Direct Drop              CIP           Air   \n",
              "\n",
              "  PQ First Sent to Client Date PO Sent to Vendor Date Scheduled Delivery Date  \\\n",
              "0               Pre-PQ Process      Date Not Captured                2-Jun-06   \n",
              "1               Pre-PQ Process      Date Not Captured               14-Nov-06   \n",
              "2               Pre-PQ Process      Date Not Captured               27-Aug-06   \n",
              "3               Pre-PQ Process      Date Not Captured                1-Sep-06   \n",
              "4               Pre-PQ Process      Date Not Captured               11-Aug-06   \n",
              "5               Pre-PQ Process      Date Not Captured               28-Sep-06   \n",
              "6               Pre-PQ Process      Date Not Captured                8-Jan-07   \n",
              "7               Pre-PQ Process      Date Not Captured               24-Nov-06   \n",
              "8               Pre-PQ Process      Date Not Captured                7-Dec-06   \n",
              "9               Pre-PQ Process               11/13/06               30-Jan-07   \n",
              "\n",
              "  Delivered to Client Date Delivery Recorded Date Product Group  \\\n",
              "0                 2-Jun-06               2-Jun-06          HRDT   \n",
              "1                14-Nov-06              14-Nov-06           ARV   \n",
              "2                27-Aug-06              27-Aug-06          HRDT   \n",
              "3                 1-Sep-06               1-Sep-06           ARV   \n",
              "4                11-Aug-06              11-Aug-06           ARV   \n",
              "5                28-Sep-06              28-Sep-06           ARV   \n",
              "6                 8-Jan-07               8-Jan-07           ARV   \n",
              "7                24-Nov-06              24-Nov-06           ARV   \n",
              "8                 7-Dec-06               7-Dec-06           ARV   \n",
              "9                30-Jan-07              30-Jan-07           ARV   \n",
              "\n",
              "  Sub Classification                                             Vendor  \\\n",
              "0           HIV test                        RANBAXY Fine Chemicals LTD.   \n",
              "1          Pediatric                           Aurobindo Pharma Limited   \n",
              "2           HIV test                               Abbott GmbH & Co. KG   \n",
              "3              Adult  SUN PHARMACEUTICAL INDUSTRIES LTD (RANBAXY LAB...   \n",
              "4              Adult                           Aurobindo Pharma Limited   \n",
              "5          Pediatric                           Aurobindo Pharma Limited   \n",
              "6          Pediatric  MERCK SHARP & DOHME IDEA GMBH (FORMALLY MERCK ...   \n",
              "7              Adult                           Aurobindo Pharma Limited   \n",
              "8              Adult                           Aurobindo Pharma Limited   \n",
              "9              Adult    ABBVIE LOGISTICS (FORMERLY ABBOTT LOGISTICS BV)   \n",
              "\n",
              "                                    Item Description  \\\n",
              "0  HIV, Reveal G3 Rapid HIV-1 Antibody Test, 30 T...   \n",
              "1  Nevirapine 10mg/ml, oral suspension, Bottle, 2...   \n",
              "2     HIV 1/2, Determine Complete HIV Kit, 100 Tests   \n",
              "3                 Lamivudine 150mg, tablets, 60 Tabs   \n",
              "4                  Stavudine 30mg, capsules, 60 Caps   \n",
              "5  Zidovudine 10mg/ml, oral solution, Bottle, 240 ml   \n",
              "6  Efavirenz 200mg [Stocrin/Sustiva], capsule, 90...   \n",
              "7                 Nevirapine 200mg, tablets, 60 Tabs   \n",
              "8                  Stavudine 30mg, capsules, 60 Caps   \n",
              "9  Lopinavir/Ritonavir 200/50mg [Aluvia], tablets...   \n",
              "\n",
              "                         Molecule/Test Type            Brand    Dosage  \\\n",
              "0  HIV, Reveal G3 Rapid HIV-1 Antibody Test           Reveal         0   \n",
              "1                                Nevirapine          Generic   10mg/ml   \n",
              "2       HIV 1/2, Determine Complete HIV Kit        Determine         0   \n",
              "3                                Lamivudine          Generic     150mg   \n",
              "4                                 Stavudine          Generic      30mg   \n",
              "5                                Zidovudine          Generic   10mg/ml   \n",
              "6                                 Efavirenz  Stocrin/Sustiva     200mg   \n",
              "7                                Nevirapine          Generic     200mg   \n",
              "8                                 Stavudine          Generic      30mg   \n",
              "9                       Lopinavir/Ritonavir           Aluvia  200/50mg   \n",
              "\n",
              "       Dosage Form  Unit of Measure (Per Pack)  Line Item Quantity  \\\n",
              "0         Test kit                          30                  19   \n",
              "1  Oral suspension                         240                1000   \n",
              "2         Test kit                         100                 500   \n",
              "3           Tablet                          60               31920   \n",
              "4          Capsule                          60               38000   \n",
              "5    Oral solution                         240                 416   \n",
              "6          Capsule                          90                 135   \n",
              "7           Tablet                          60               16667   \n",
              "8          Capsule                          60                 273   \n",
              "9           Tablet                         120                2800   \n",
              "\n",
              "       Line Item Value           Pack Price           Unit Price  \\\n",
              "0               551.00                29.00                 0.97   \n",
              "1             6,200.00                 6.20                 0.03   \n",
              "2            40,000.00                80.00                 0.80   \n",
              "3           127,360.80                 3.99                 0.07   \n",
              "4           121,600.00                 3.20                 0.05   \n",
              "5             2,225.60                 5.35                 0.02   \n",
              "6             4,374.00                32.40                 0.36   \n",
              "7            60,834.55                 3.65                 0.06   \n",
              "8               532.35                 1.95                 0.03   \n",
              "9           115,080.00                41.10                 0.34   \n",
              "\n",
              "               Manufacturing Site First Line Designation  \\\n",
              "0      Ranbaxy Fine Chemicals LTD                    Yes   \n",
              "1       Aurobindo Unit III, India                    Yes   \n",
              "2   ABBVIE GmbH & Co.KG Wiesbaden                    Yes   \n",
              "3   Ranbaxy, Paonta Shahib, India                    Yes   \n",
              "4       Aurobindo Unit III, India                    Yes   \n",
              "5       Aurobindo Unit III, India                    Yes   \n",
              "6   MSD South Granville Australia                    Yes   \n",
              "7       Aurobindo Unit III, India                    Yes   \n",
              "8       Aurobindo Unit III, India                     No   \n",
              "9  ABBVIE (Abbott) St. P'burg USA                    Yes   \n",
              "\n",
              "      Weight (Kilograms)                  Freight Cost (USD)  \\\n",
              "0                     13                              780.34   \n",
              "1                    358                              4521.5   \n",
              "2                    171                             1653.78   \n",
              "3                   1855                            16007.06   \n",
              "4                   7590                            45450.08   \n",
              "5                    504                             5920.42   \n",
              "6                    328  Freight Included in Commodity Cost   \n",
              "7                   1478                             6212.41   \n",
              "8  See ASN-93 (ID#:1281)               See ASN-93 (ID#:1281)   \n",
              "9                    643  Freight Included in Commodity Cost   \n",
              "\n",
              "   Line Item Insurance (USD)  \n",
              "0                       0.00  \n",
              "1                       0.00  \n",
              "2                       0.00  \n",
              "3                       0.00  \n",
              "4                       0.00  \n",
              "5                       0.00  \n",
              "6                       0.00  \n",
              "7                       0.00  \n",
              "8                       0.00  \n",
              "9                       0.00  "
            ],
            "text/html": [
              "\n",
              "  <div id=\"df-0cd9e8b4-37a6-42ce-89f7-7be9477e1570\">\n",
              "    <div class=\"colab-df-container\">\n",
              "      <div>\n",
              "<style scoped>\n",
              "    .dataframe tbody tr th:only-of-type {\n",
              "        vertical-align: middle;\n",
              "    }\n",
              "\n",
              "    .dataframe tbody tr th {\n",
              "        vertical-align: top;\n",
              "    }\n",
              "\n",
              "    .dataframe thead th {\n",
              "        text-align: right;\n",
              "    }\n",
              "</style>\n",
              "<table border=\"1\" class=\"dataframe\">\n",
              "  <thead>\n",
              "    <tr style=\"text-align: right;\">\n",
              "      <th></th>\n",
              "      <th>ID</th>\n",
              "      <th>Project Code</th>\n",
              "      <th>PQ #</th>\n",
              "      <th>PO / SO #</th>\n",
              "      <th>ASN/DN #</th>\n",
              "      <th>Country</th>\n",
              "      <th>Managed By</th>\n",
              "      <th>Fulfill Via</th>\n",
              "      <th>Vendor INCO Term</th>\n",
              "      <th>Shipment Mode</th>\n",
              "      <th>PQ First Sent to Client Date</th>\n",
              "      <th>PO Sent to Vendor Date</th>\n",
              "      <th>Scheduled Delivery Date</th>\n",
              "      <th>Delivered to Client Date</th>\n",
              "      <th>Delivery Recorded Date</th>\n",
              "      <th>Product Group</th>\n",
              "      <th>Sub Classification</th>\n",
              "      <th>Vendor</th>\n",
              "      <th>Item Description</th>\n",
              "      <th>Molecule/Test Type</th>\n",
              "      <th>Brand</th>\n",
              "      <th>Dosage</th>\n",
              "      <th>Dosage Form</th>\n",
              "      <th>Unit of Measure (Per Pack)</th>\n",
              "      <th>Line Item Quantity</th>\n",
              "      <th>Line Item Value</th>\n",
              "      <th>Pack Price</th>\n",
              "      <th>Unit Price</th>\n",
              "      <th>Manufacturing Site</th>\n",
              "      <th>First Line Designation</th>\n",
              "      <th>Weight (Kilograms)</th>\n",
              "      <th>Freight Cost (USD)</th>\n",
              "      <th>Line Item Insurance (USD)</th>\n",
              "    </tr>\n",
              "  </thead>\n",
              "  <tbody>\n",
              "    <tr>\n",
              "      <th>0</th>\n",
              "      <td>1</td>\n",
              "      <td>100-CI-T01</td>\n",
              "      <td>Pre-PQ Process</td>\n",
              "      <td>SCMS-4</td>\n",
              "      <td>ASN-8</td>\n",
              "      <td>Côte d'Ivoire</td>\n",
              "      <td>PMO - US</td>\n",
              "      <td>Direct Drop</td>\n",
              "      <td>EXW</td>\n",
              "      <td>Air</td>\n",
              "      <td>Pre-PQ Process</td>\n",
              "      <td>Date Not Captured</td>\n",
              "      <td>2-Jun-06</td>\n",
              "      <td>2-Jun-06</td>\n",
              "      <td>2-Jun-06</td>\n",
              "      <td>HRDT</td>\n",
              "      <td>HIV test</td>\n",
              "      <td>RANBAXY Fine Chemicals LTD.</td>\n",
              "      <td>HIV, Reveal G3 Rapid HIV-1 Antibody Test, 30 T...</td>\n",
              "      <td>HIV, Reveal G3 Rapid HIV-1 Antibody Test</td>\n",
              "      <td>Reveal</td>\n",
              "      <td>0</td>\n",
              "      <td>Test kit</td>\n",
              "      <td>30</td>\n",
              "      <td>19</td>\n",
              "      <td>551.00</td>\n",
              "      <td>29.00</td>\n",
              "      <td>0.97</td>\n",
              "      <td>Ranbaxy Fine Chemicals LTD</td>\n",
              "      <td>Yes</td>\n",
              "      <td>13</td>\n",
              "      <td>780.34</td>\n",
              "      <td>0.00</td>\n",
              "    </tr>\n",
              "    <tr>\n",
              "      <th>1</th>\n",
              "      <td>3</td>\n",
              "      <td>108-VN-T01</td>\n",
              "      <td>Pre-PQ Process</td>\n",
              "      <td>SCMS-13</td>\n",
              "      <td>ASN-85</td>\n",
              "      <td>Vietnam</td>\n",
              "      <td>PMO - US</td>\n",
              "      <td>Direct Drop</td>\n",
              "      <td>EXW</td>\n",
              "      <td>Air</td>\n",
              "      <td>Pre-PQ Process</td>\n",
              "      <td>Date Not Captured</td>\n",
              "      <td>14-Nov-06</td>\n",
              "      <td>14-Nov-06</td>\n",
              "      <td>14-Nov-06</td>\n",
              "      <td>ARV</td>\n",
              "      <td>Pediatric</td>\n",
              "      <td>Aurobindo Pharma Limited</td>\n",
              "      <td>Nevirapine 10mg/ml, oral suspension, Bottle, 2...</td>\n",
              "      <td>Nevirapine</td>\n",
              "      <td>Generic</td>\n",
              "      <td>10mg/ml</td>\n",
              "      <td>Oral suspension</td>\n",
              "      <td>240</td>\n",
              "      <td>1000</td>\n",
              "      <td>6,200.00</td>\n",
              "      <td>6.20</td>\n",
              "      <td>0.03</td>\n",
              "      <td>Aurobindo Unit III, India</td>\n",
              "      <td>Yes</td>\n",
              "      <td>358</td>\n",
              "      <td>4521.5</td>\n",
              "      <td>0.00</td>\n",
              "    </tr>\n",
              "    <tr>\n",
              "      <th>2</th>\n",
              "      <td>4</td>\n",
              "      <td>100-CI-T01</td>\n",
              "      <td>Pre-PQ Process</td>\n",
              "      <td>SCMS-20</td>\n",
              "      <td>ASN-14</td>\n",
              "      <td>Côte d'Ivoire</td>\n",
              "      <td>PMO - US</td>\n",
              "      <td>Direct Drop</td>\n",
              "      <td>FCA</td>\n",
              "      <td>Air</td>\n",
              "      <td>Pre-PQ Process</td>\n",
              "      <td>Date Not Captured</td>\n",
              "      <td>27-Aug-06</td>\n",
              "      <td>27-Aug-06</td>\n",
              "      <td>27-Aug-06</td>\n",
              "      <td>HRDT</td>\n",
              "      <td>HIV test</td>\n",
              "      <td>Abbott GmbH &amp; Co. KG</td>\n",
              "      <td>HIV 1/2, Determine Complete HIV Kit, 100 Tests</td>\n",
              "      <td>HIV 1/2, Determine Complete HIV Kit</td>\n",
              "      <td>Determine</td>\n",
              "      <td>0</td>\n",
              "      <td>Test kit</td>\n",
              "      <td>100</td>\n",
              "      <td>500</td>\n",
              "      <td>40,000.00</td>\n",
              "      <td>80.00</td>\n",
              "      <td>0.80</td>\n",
              "      <td>ABBVIE GmbH &amp; Co.KG Wiesbaden</td>\n",
              "      <td>Yes</td>\n",
              "      <td>171</td>\n",
              "      <td>1653.78</td>\n",
              "      <td>0.00</td>\n",
              "    </tr>\n",
              "    <tr>\n",
              "      <th>3</th>\n",
              "      <td>15</td>\n",
              "      <td>108-VN-T01</td>\n",
              "      <td>Pre-PQ Process</td>\n",
              "      <td>SCMS-78</td>\n",
              "      <td>ASN-50</td>\n",
              "      <td>Vietnam</td>\n",
              "      <td>PMO - US</td>\n",
              "      <td>Direct Drop</td>\n",
              "      <td>EXW</td>\n",
              "      <td>Air</td>\n",
              "      <td>Pre-PQ Process</td>\n",
              "      <td>Date Not Captured</td>\n",
              "      <td>1-Sep-06</td>\n",
              "      <td>1-Sep-06</td>\n",
              "      <td>1-Sep-06</td>\n",
              "      <td>ARV</td>\n",
              "      <td>Adult</td>\n",
              "      <td>SUN PHARMACEUTICAL INDUSTRIES LTD (RANBAXY LAB...</td>\n",
              "      <td>Lamivudine 150mg, tablets, 60 Tabs</td>\n",
              "      <td>Lamivudine</td>\n",
              "      <td>Generic</td>\n",
              "      <td>150mg</td>\n",
              "      <td>Tablet</td>\n",
              "      <td>60</td>\n",
              "      <td>31920</td>\n",
              "      <td>127,360.80</td>\n",
              "      <td>3.99</td>\n",
              "      <td>0.07</td>\n",
              "      <td>Ranbaxy, Paonta Shahib, India</td>\n",
              "      <td>Yes</td>\n",
              "      <td>1855</td>\n",
              "      <td>16007.06</td>\n",
              "      <td>0.00</td>\n",
              "    </tr>\n",
              "    <tr>\n",
              "      <th>4</th>\n",
              "      <td>16</td>\n",
              "      <td>108-VN-T01</td>\n",
              "      <td>Pre-PQ Process</td>\n",
              "      <td>SCMS-81</td>\n",
              "      <td>ASN-55</td>\n",
              "      <td>Vietnam</td>\n",
              "      <td>PMO - US</td>\n",
              "      <td>Direct Drop</td>\n",
              "      <td>EXW</td>\n",
              "      <td>Air</td>\n",
              "      <td>Pre-PQ Process</td>\n",
              "      <td>Date Not Captured</td>\n",
              "      <td>11-Aug-06</td>\n",
              "      <td>11-Aug-06</td>\n",
              "      <td>11-Aug-06</td>\n",
              "      <td>ARV</td>\n",
              "      <td>Adult</td>\n",
              "      <td>Aurobindo Pharma Limited</td>\n",
              "      <td>Stavudine 30mg, capsules, 60 Caps</td>\n",
              "      <td>Stavudine</td>\n",
              "      <td>Generic</td>\n",
              "      <td>30mg</td>\n",
              "      <td>Capsule</td>\n",
              "      <td>60</td>\n",
              "      <td>38000</td>\n",
              "      <td>121,600.00</td>\n",
              "      <td>3.20</td>\n",
              "      <td>0.05</td>\n",
              "      <td>Aurobindo Unit III, India</td>\n",
              "      <td>Yes</td>\n",
              "      <td>7590</td>\n",
              "      <td>45450.08</td>\n",
              "      <td>0.00</td>\n",
              "    </tr>\n",
              "    <tr>\n",
              "      <th>5</th>\n",
              "      <td>23</td>\n",
              "      <td>112-NG-T01</td>\n",
              "      <td>Pre-PQ Process</td>\n",
              "      <td>SCMS-87</td>\n",
              "      <td>ASN-57</td>\n",
              "      <td>Nigeria</td>\n",
              "      <td>PMO - US</td>\n",
              "      <td>Direct Drop</td>\n",
              "      <td>EXW</td>\n",
              "      <td>Air</td>\n",
              "      <td>Pre-PQ Process</td>\n",
              "      <td>Date Not Captured</td>\n",
              "      <td>28-Sep-06</td>\n",
              "      <td>28-Sep-06</td>\n",
              "      <td>28-Sep-06</td>\n",
              "      <td>ARV</td>\n",
              "      <td>Pediatric</td>\n",
              "      <td>Aurobindo Pharma Limited</td>\n",
              "      <td>Zidovudine 10mg/ml, oral solution, Bottle, 240 ml</td>\n",
              "      <td>Zidovudine</td>\n",
              "      <td>Generic</td>\n",
              "      <td>10mg/ml</td>\n",
              "      <td>Oral solution</td>\n",
              "      <td>240</td>\n",
              "      <td>416</td>\n",
              "      <td>2,225.60</td>\n",
              "      <td>5.35</td>\n",
              "      <td>0.02</td>\n",
              "      <td>Aurobindo Unit III, India</td>\n",
              "      <td>Yes</td>\n",
              "      <td>504</td>\n",
              "      <td>5920.42</td>\n",
              "      <td>0.00</td>\n",
              "    </tr>\n",
              "    <tr>\n",
              "      <th>6</th>\n",
              "      <td>44</td>\n",
              "      <td>110-ZM-T01</td>\n",
              "      <td>Pre-PQ Process</td>\n",
              "      <td>SCMS-139</td>\n",
              "      <td>ASN-130</td>\n",
              "      <td>Zambia</td>\n",
              "      <td>PMO - US</td>\n",
              "      <td>Direct Drop</td>\n",
              "      <td>DDU</td>\n",
              "      <td>Air</td>\n",
              "      <td>Pre-PQ Process</td>\n",
              "      <td>Date Not Captured</td>\n",
              "      <td>8-Jan-07</td>\n",
              "      <td>8-Jan-07</td>\n",
              "      <td>8-Jan-07</td>\n",
              "      <td>ARV</td>\n",
              "      <td>Pediatric</td>\n",
              "      <td>MERCK SHARP &amp; DOHME IDEA GMBH (FORMALLY MERCK ...</td>\n",
              "      <td>Efavirenz 200mg [Stocrin/Sustiva], capsule, 90...</td>\n",
              "      <td>Efavirenz</td>\n",
              "      <td>Stocrin/Sustiva</td>\n",
              "      <td>200mg</td>\n",
              "      <td>Capsule</td>\n",
              "      <td>90</td>\n",
              "      <td>135</td>\n",
              "      <td>4,374.00</td>\n",
              "      <td>32.40</td>\n",
              "      <td>0.36</td>\n",
              "      <td>MSD South Granville Australia</td>\n",
              "      <td>Yes</td>\n",
              "      <td>328</td>\n",
              "      <td>Freight Included in Commodity Cost</td>\n",
              "      <td>0.00</td>\n",
              "    </tr>\n",
              "    <tr>\n",
              "      <th>7</th>\n",
              "      <td>45</td>\n",
              "      <td>109-TZ-T01</td>\n",
              "      <td>Pre-PQ Process</td>\n",
              "      <td>SCMS-140</td>\n",
              "      <td>ASN-94</td>\n",
              "      <td>Tanzania</td>\n",
              "      <td>PMO - US</td>\n",
              "      <td>Direct Drop</td>\n",
              "      <td>EXW</td>\n",
              "      <td>Air</td>\n",
              "      <td>Pre-PQ Process</td>\n",
              "      <td>Date Not Captured</td>\n",
              "      <td>24-Nov-06</td>\n",
              "      <td>24-Nov-06</td>\n",
              "      <td>24-Nov-06</td>\n",
              "      <td>ARV</td>\n",
              "      <td>Adult</td>\n",
              "      <td>Aurobindo Pharma Limited</td>\n",
              "      <td>Nevirapine 200mg, tablets, 60 Tabs</td>\n",
              "      <td>Nevirapine</td>\n",
              "      <td>Generic</td>\n",
              "      <td>200mg</td>\n",
              "      <td>Tablet</td>\n",
              "      <td>60</td>\n",
              "      <td>16667</td>\n",
              "      <td>60,834.55</td>\n",
              "      <td>3.65</td>\n",
              "      <td>0.06</td>\n",
              "      <td>Aurobindo Unit III, India</td>\n",
              "      <td>Yes</td>\n",
              "      <td>1478</td>\n",
              "      <td>6212.41</td>\n",
              "      <td>0.00</td>\n",
              "    </tr>\n",
              "    <tr>\n",
              "      <th>8</th>\n",
              "      <td>46</td>\n",
              "      <td>112-NG-T01</td>\n",
              "      <td>Pre-PQ Process</td>\n",
              "      <td>SCMS-156</td>\n",
              "      <td>ASN-93</td>\n",
              "      <td>Nigeria</td>\n",
              "      <td>PMO - US</td>\n",
              "      <td>Direct Drop</td>\n",
              "      <td>EXW</td>\n",
              "      <td>Air</td>\n",
              "      <td>Pre-PQ Process</td>\n",
              "      <td>Date Not Captured</td>\n",
              "      <td>7-Dec-06</td>\n",
              "      <td>7-Dec-06</td>\n",
              "      <td>7-Dec-06</td>\n",
              "      <td>ARV</td>\n",
              "      <td>Adult</td>\n",
              "      <td>Aurobindo Pharma Limited</td>\n",
              "      <td>Stavudine 30mg, capsules, 60 Caps</td>\n",
              "      <td>Stavudine</td>\n",
              "      <td>Generic</td>\n",
              "      <td>30mg</td>\n",
              "      <td>Capsule</td>\n",
              "      <td>60</td>\n",
              "      <td>273</td>\n",
              "      <td>532.35</td>\n",
              "      <td>1.95</td>\n",
              "      <td>0.03</td>\n",
              "      <td>Aurobindo Unit III, India</td>\n",
              "      <td>No</td>\n",
              "      <td>See ASN-93 (ID#:1281)</td>\n",
              "      <td>See ASN-93 (ID#:1281)</td>\n",
              "      <td>0.00</td>\n",
              "    </tr>\n",
              "    <tr>\n",
              "      <th>9</th>\n",
              "      <td>47</td>\n",
              "      <td>110-ZM-T01</td>\n",
              "      <td>Pre-PQ Process</td>\n",
              "      <td>SCMS-165</td>\n",
              "      <td>ASN-199</td>\n",
              "      <td>Zambia</td>\n",
              "      <td>PMO - US</td>\n",
              "      <td>Direct Drop</td>\n",
              "      <td>CIP</td>\n",
              "      <td>Air</td>\n",
              "      <td>Pre-PQ Process</td>\n",
              "      <td>11/13/06</td>\n",
              "      <td>30-Jan-07</td>\n",
              "      <td>30-Jan-07</td>\n",
              "      <td>30-Jan-07</td>\n",
              "      <td>ARV</td>\n",
              "      <td>Adult</td>\n",
              "      <td>ABBVIE LOGISTICS (FORMERLY ABBOTT LOGISTICS BV)</td>\n",
              "      <td>Lopinavir/Ritonavir 200/50mg [Aluvia], tablets...</td>\n",
              "      <td>Lopinavir/Ritonavir</td>\n",
              "      <td>Aluvia</td>\n",
              "      <td>200/50mg</td>\n",
              "      <td>Tablet</td>\n",
              "      <td>120</td>\n",
              "      <td>2800</td>\n",
              "      <td>115,080.00</td>\n",
              "      <td>41.10</td>\n",
              "      <td>0.34</td>\n",
              "      <td>ABBVIE (Abbott) St. P'burg USA</td>\n",
              "      <td>Yes</td>\n",
              "      <td>643</td>\n",
              "      <td>Freight Included in Commodity Cost</td>\n",
              "      <td>0.00</td>\n",
              "    </tr>\n",
              "  </tbody>\n",
              "</table>\n",
              "</div>\n",
              "      <button class=\"colab-df-convert\" onclick=\"convertToInteractive('df-0cd9e8b4-37a6-42ce-89f7-7be9477e1570')\"\n",
              "              title=\"Convert this dataframe to an interactive table.\"\n",
              "              style=\"display:none;\">\n",
              "        \n",
              "  <svg xmlns=\"http://www.w3.org/2000/svg\" height=\"24px\"viewBox=\"0 0 24 24\"\n",
              "       width=\"24px\">\n",
              "    <path d=\"M0 0h24v24H0V0z\" fill=\"none\"/>\n",
              "    <path d=\"M18.56 5.44l.94 2.06.94-2.06 2.06-.94-2.06-.94-.94-2.06-.94 2.06-2.06.94zm-11 1L8.5 8.5l.94-2.06 2.06-.94-2.06-.94L8.5 2.5l-.94 2.06-2.06.94zm10 10l.94 2.06.94-2.06 2.06-.94-2.06-.94-.94-2.06-.94 2.06-2.06.94z\"/><path d=\"M17.41 7.96l-1.37-1.37c-.4-.4-.92-.59-1.43-.59-.52 0-1.04.2-1.43.59L10.3 9.45l-7.72 7.72c-.78.78-.78 2.05 0 2.83L4 21.41c.39.39.9.59 1.41.59.51 0 1.02-.2 1.41-.59l7.78-7.78 2.81-2.81c.8-.78.8-2.07 0-2.86zM5.41 20L4 18.59l7.72-7.72 1.47 1.35L5.41 20z\"/>\n",
              "  </svg>\n",
              "      </button>\n",
              "      \n",
              "  <style>\n",
              "    .colab-df-container {\n",
              "      display:flex;\n",
              "      flex-wrap:wrap;\n",
              "      gap: 12px;\n",
              "    }\n",
              "\n",
              "    .colab-df-convert {\n",
              "      background-color: #E8F0FE;\n",
              "      border: none;\n",
              "      border-radius: 50%;\n",
              "      cursor: pointer;\n",
              "      display: none;\n",
              "      fill: #1967D2;\n",
              "      height: 32px;\n",
              "      padding: 0 0 0 0;\n",
              "      width: 32px;\n",
              "    }\n",
              "\n",
              "    .colab-df-convert:hover {\n",
              "      background-color: #E2EBFA;\n",
              "      box-shadow: 0px 1px 2px rgba(60, 64, 67, 0.3), 0px 1px 3px 1px rgba(60, 64, 67, 0.15);\n",
              "      fill: #174EA6;\n",
              "    }\n",
              "\n",
              "    [theme=dark] .colab-df-convert {\n",
              "      background-color: #3B4455;\n",
              "      fill: #D2E3FC;\n",
              "    }\n",
              "\n",
              "    [theme=dark] .colab-df-convert:hover {\n",
              "      background-color: #434B5C;\n",
              "      box-shadow: 0px 1px 3px 1px rgba(0, 0, 0, 0.15);\n",
              "      filter: drop-shadow(0px 1px 2px rgba(0, 0, 0, 0.3));\n",
              "      fill: #FFFFFF;\n",
              "    }\n",
              "  </style>\n",
              "\n",
              "      <script>\n",
              "        const buttonEl =\n",
              "          document.querySelector('#df-0cd9e8b4-37a6-42ce-89f7-7be9477e1570 button.colab-df-convert');\n",
              "        buttonEl.style.display =\n",
              "          google.colab.kernel.accessAllowed ? 'block' : 'none';\n",
              "\n",
              "        async function convertToInteractive(key) {\n",
              "          const element = document.querySelector('#df-0cd9e8b4-37a6-42ce-89f7-7be9477e1570');\n",
              "          const dataTable =\n",
              "            await google.colab.kernel.invokeFunction('convertToInteractive',\n",
              "                                                     [key], {});\n",
              "          if (!dataTable) return;\n",
              "\n",
              "          const docLinkHtml = 'Like what you see? Visit the ' +\n",
              "            '<a target=\"_blank\" href=https://colab.research.google.com/notebooks/data_table.ipynb>data table notebook</a>'\n",
              "            + ' to learn more about interactive tables.';\n",
              "          element.innerHTML = '';\n",
              "          dataTable['output_type'] = 'display_data';\n",
              "          await google.colab.output.renderOutput(dataTable, element);\n",
              "          const docLink = document.createElement('div');\n",
              "          docLink.innerHTML = docLinkHtml;\n",
              "          element.appendChild(docLink);\n",
              "        }\n",
              "      </script>\n",
              "    </div>\n",
              "  </div>\n",
              "  "
            ]
          },
          "metadata": {},
          "execution_count": 9
        }
      ]
    },
    {
      "cell_type": "code",
      "source": [
        "DataSet.tail(10)"
      ],
      "metadata": {
        "id": "sWPceW3H0lHI",
        "outputId": "e75d3fb4-9604-4696-8402-274c4b254462",
        "colab": {
          "base_uri": "https://localhost:8080/",
          "height": 895
        }
      },
      "execution_count": 10,
      "outputs": [
        {
          "output_type": "execute_result",
          "data": {
            "text/plain": [
              "          ID Project Code       PQ # PO / SO # ASN/DN #        Country  \\\n",
              "10314  86813   151-NG-T30  FPQ-14989  SO-51422  DN-4274        Nigeria   \n",
              "10315  86814   151-NG-T30  FPQ-14989  SO-51424  DN-4276        Nigeria   \n",
              "10316  86815   151-NG-T30  FPQ-16313  SO-51420  DN-4279        Nigeria   \n",
              "10317  86816   151-NG-T30  FPQ-16313  SO-51440  DN-4282        Nigeria   \n",
              "10318  86817   103-ZW-T30  FPQ-15197  SO-50020  DN-4307       Zimbabwe   \n",
              "10319  86818   103-ZW-T30  FPQ-15197  SO-50020  DN-4307       Zimbabwe   \n",
              "10320  86819   104-CI-T30  FPQ-15259  SO-50102  DN-4313  Côte d'Ivoire   \n",
              "10321  86821   110-ZM-T30  FPQ-14784  SO-49600  DN-4316         Zambia   \n",
              "10322  86822   200-ZW-T30  FPQ-16523  SO-51680  DN-4334       Zimbabwe   \n",
              "10323  86823   103-ZW-T30  FPQ-15197  SO-50022  DN-4336       Zimbabwe   \n",
              "\n",
              "      Managed By Fulfill Via Vendor INCO Term Shipment Mode  \\\n",
              "10314   PMO - US    From RDC   N/A - From RDC   Air Charter   \n",
              "10315   PMO - US    From RDC   N/A - From RDC   Air Charter   \n",
              "10316   PMO - US    From RDC   N/A - From RDC   Air Charter   \n",
              "10317   PMO - US    From RDC   N/A - From RDC           Air   \n",
              "10318   PMO - US    From RDC   N/A - From RDC         Truck   \n",
              "10319   PMO - US    From RDC   N/A - From RDC         Truck   \n",
              "10320   PMO - US    From RDC   N/A - From RDC         Truck   \n",
              "10321   PMO - US    From RDC   N/A - From RDC         Truck   \n",
              "10322   PMO - US    From RDC   N/A - From RDC         Truck   \n",
              "10323   PMO - US    From RDC   N/A - From RDC         Truck   \n",
              "\n",
              "      PQ First Sent to Client Date PO Sent to Vendor Date  \\\n",
              "10314                      9/19/14         N/A - From RDC   \n",
              "10315                      9/19/14         N/A - From RDC   \n",
              "10316                       5/4/15         N/A - From RDC   \n",
              "10317                       5/4/15         N/A - From RDC   \n",
              "10318                     10/16/14         N/A - From RDC   \n",
              "10319                     10/16/14         N/A - From RDC   \n",
              "10320                     10/24/14         N/A - From RDC   \n",
              "10321                      8/12/14         N/A - From RDC   \n",
              "10322                       7/1/15         N/A - From RDC   \n",
              "10323                     10/16/14         N/A - From RDC   \n",
              "\n",
              "      Scheduled Delivery Date Delivered to Client Date Delivery Recorded Date  \\\n",
              "10314               30-Jun-15                15-May-15              22-May-15   \n",
              "10315               30-Jun-15                15-May-15              22-May-15   \n",
              "10316                2-Jun-15                15-May-15              22-May-15   \n",
              "10317               30-Jun-15                22-Jun-15              29-Jun-15   \n",
              "10318               31-Jul-15                15-Jul-15              20-Jul-15   \n",
              "10319               31-Jul-15                15-Jul-15              20-Jul-15   \n",
              "10320               31-Jul-15                 6-Aug-15               7-Aug-15   \n",
              "10321               31-Aug-15                25-Aug-15               3-Sep-15   \n",
              "10322                9-Sep-15                 4-Aug-15              11-Aug-15   \n",
              "10323               31-Aug-15                 4-Aug-15              11-Aug-15   \n",
              "\n",
              "      Product Group Sub Classification         Vendor  \\\n",
              "10314           ARV          Pediatric  SCMS from RDC   \n",
              "10315           ARV              Adult  SCMS from RDC   \n",
              "10316           ARV              Adult  SCMS from RDC   \n",
              "10317           ARV              Adult  SCMS from RDC   \n",
              "10318           ARV          Pediatric  SCMS from RDC   \n",
              "10319           ARV          Pediatric  SCMS from RDC   \n",
              "10320           ARV              Adult  SCMS from RDC   \n",
              "10321           ARV              Adult  SCMS from RDC   \n",
              "10322           ARV              Adult  SCMS from RDC   \n",
              "10323           ARV          Pediatric  SCMS from RDC   \n",
              "\n",
              "                                        Item Description  \\\n",
              "10314  Lamivudine/Nevirapine/Zidovudine 30/50/60mg, d...   \n",
              "10315  Lopinavir/Ritonavir 200/50mg [Aluvia], tablets...   \n",
              "10316  Lamivudine/Zidovudine 150/300mg, tablets, 60 Tabs   \n",
              "10317                  Efavirenz 600mg, tablets, 30 Tabs   \n",
              "10318  Lamivudine/Nevirapine/Zidovudine 30/50/60mg, d...   \n",
              "10319  Lamivudine/Nevirapine/Zidovudine 30/50/60mg, d...   \n",
              "10320  Lamivudine/Zidovudine 150/300mg, tablets, 60 Tabs   \n",
              "10321  Efavirenz/Lamivudine/Tenofovir Disoproxil Fuma...   \n",
              "10322  Lamivudine/Zidovudine 150/300mg, tablets, 60 Tabs   \n",
              "10323  Lamivudine/Zidovudine 30/60mg, dispersible tab...   \n",
              "\n",
              "                                      Molecule/Test Type    Brand  \\\n",
              "10314                   Lamivudine/Nevirapine/Zidovudine  Generic   \n",
              "10315                                Lopinavir/Ritonavir   Aluvia   \n",
              "10316                              Lamivudine/Zidovudine  Generic   \n",
              "10317                                          Efavirenz  Generic   \n",
              "10318                   Lamivudine/Nevirapine/Zidovudine  Generic   \n",
              "10319                   Lamivudine/Nevirapine/Zidovudine  Generic   \n",
              "10320                              Lamivudine/Zidovudine  Generic   \n",
              "10321  Efavirenz/Lamivudine/Tenofovir Disoproxil Fuma...  Generic   \n",
              "10322                              Lamivudine/Zidovudine  Generic   \n",
              "10323                              Lamivudine/Zidovudine  Generic   \n",
              "\n",
              "              Dosage                        Dosage Form  \\\n",
              "10314     30/50/60mg  Chewable/dispersible tablet - FDC   \n",
              "10315       200/50mg                             Tablet   \n",
              "10316      150/300mg                       Tablet - FDC   \n",
              "10317          600mg                             Tablet   \n",
              "10318     30/50/60mg  Chewable/dispersible tablet - FDC   \n",
              "10319     30/50/60mg  Chewable/dispersible tablet - FDC   \n",
              "10320      150/300mg                       Tablet - FDC   \n",
              "10321  600/300/300mg                       Tablet - FDC   \n",
              "10322      150/300mg                       Tablet - FDC   \n",
              "10323        30/60mg  Chewable/dispersible tablet - FDC   \n",
              "\n",
              "       Unit of Measure (Per Pack)  Line Item Quantity      Line Item Value  \\\n",
              "10314                          60               10340            37,224.00   \n",
              "10315                         120               70000         1,304,800.00   \n",
              "10316                          60               15000            97,800.00   \n",
              "10317                          30                6724            20,978.88   \n",
              "10318                          60              205243           738,874.80   \n",
              "10319                          60              166571           599,655.60   \n",
              "10320                          60               21072           137,389.44   \n",
              "10321                          30              514526         5,140,114.74   \n",
              "10322                          60               17465           113,871.80   \n",
              "10323                          60               36639            72,911.61   \n",
              "\n",
              "                Pack Price           Unit Price  \\\n",
              "10314                 3.60                 0.06   \n",
              "10315                18.64                 0.16   \n",
              "10316                 6.52                 0.11   \n",
              "10317                 3.12                 0.10   \n",
              "10318                 3.60                 0.06   \n",
              "10319                 3.60                 0.06   \n",
              "10320                 6.52                 0.11   \n",
              "10321                 9.99                 0.33   \n",
              "10322                 6.52                 0.11   \n",
              "10323                 1.99                 0.03   \n",
              "\n",
              "                   Manufacturing Site First Line Designation  \\\n",
              "10314  Mylan (formerly Matrix) Nashik                     No   \n",
              "10315     ABBVIE Ludwigshafen Germany                    Yes   \n",
              "10316       Aurobindo Unit III, India                    Yes   \n",
              "10317      Strides, Bangalore, India.                     No   \n",
              "10318               Cipla, Goa, India                     No   \n",
              "10319      Mylan,  H-12 & H-13, India                     No   \n",
              "10320    Hetero Unit III Hyderabad IN                     No   \n",
              "10321   Cipla Ltd A-42 MIDC Mahar. IN                     No   \n",
              "10322  Mylan (formerly Matrix) Nashik                    Yes   \n",
              "10323               Cipla, Goa, India                     No   \n",
              "\n",
              "               Weight (Kilograms)                  Freight Cost (USD)  \\\n",
              "10314     See DN-4274 (ID#:84472)             See DN-4274 (ID#:84472)   \n",
              "10315                       15198                               26180   \n",
              "10316                        1547                                3410   \n",
              "10317     See DN-4282 (ID#:83919)             See DN-4282 (ID#:83919)   \n",
              "10318     See DN-4307 (ID#:83920)             See DN-4307 (ID#:83920)   \n",
              "10319     See DN-4307 (ID#:83920)             See DN-4307 (ID#:83920)   \n",
              "10320     See DN-4313 (ID#:83921)             See DN-4313 (ID#:83921)   \n",
              "10321  Weight Captured Separately  Freight Included in Commodity Cost   \n",
              "10322                        1392  Freight Included in Commodity Cost   \n",
              "10323  Weight Captured Separately  Freight Included in Commodity Cost   \n",
              "\n",
              "       Line Item Insurance (USD)  \n",
              "10314                      38.27  \n",
              "10315                   1,341.33  \n",
              "10316                     115.11  \n",
              "10317                      24.69  \n",
              "10318                     869.66  \n",
              "10319                     705.79  \n",
              "10320                     161.71  \n",
              "10321                   5,284.04  \n",
              "10322                     134.03  \n",
              "10323                      85.82  "
            ],
            "text/html": [
              "\n",
              "  <div id=\"df-46debb03-c3ac-4696-ba15-c918c23a369f\">\n",
              "    <div class=\"colab-df-container\">\n",
              "      <div>\n",
              "<style scoped>\n",
              "    .dataframe tbody tr th:only-of-type {\n",
              "        vertical-align: middle;\n",
              "    }\n",
              "\n",
              "    .dataframe tbody tr th {\n",
              "        vertical-align: top;\n",
              "    }\n",
              "\n",
              "    .dataframe thead th {\n",
              "        text-align: right;\n",
              "    }\n",
              "</style>\n",
              "<table border=\"1\" class=\"dataframe\">\n",
              "  <thead>\n",
              "    <tr style=\"text-align: right;\">\n",
              "      <th></th>\n",
              "      <th>ID</th>\n",
              "      <th>Project Code</th>\n",
              "      <th>PQ #</th>\n",
              "      <th>PO / SO #</th>\n",
              "      <th>ASN/DN #</th>\n",
              "      <th>Country</th>\n",
              "      <th>Managed By</th>\n",
              "      <th>Fulfill Via</th>\n",
              "      <th>Vendor INCO Term</th>\n",
              "      <th>Shipment Mode</th>\n",
              "      <th>PQ First Sent to Client Date</th>\n",
              "      <th>PO Sent to Vendor Date</th>\n",
              "      <th>Scheduled Delivery Date</th>\n",
              "      <th>Delivered to Client Date</th>\n",
              "      <th>Delivery Recorded Date</th>\n",
              "      <th>Product Group</th>\n",
              "      <th>Sub Classification</th>\n",
              "      <th>Vendor</th>\n",
              "      <th>Item Description</th>\n",
              "      <th>Molecule/Test Type</th>\n",
              "      <th>Brand</th>\n",
              "      <th>Dosage</th>\n",
              "      <th>Dosage Form</th>\n",
              "      <th>Unit of Measure (Per Pack)</th>\n",
              "      <th>Line Item Quantity</th>\n",
              "      <th>Line Item Value</th>\n",
              "      <th>Pack Price</th>\n",
              "      <th>Unit Price</th>\n",
              "      <th>Manufacturing Site</th>\n",
              "      <th>First Line Designation</th>\n",
              "      <th>Weight (Kilograms)</th>\n",
              "      <th>Freight Cost (USD)</th>\n",
              "      <th>Line Item Insurance (USD)</th>\n",
              "    </tr>\n",
              "  </thead>\n",
              "  <tbody>\n",
              "    <tr>\n",
              "      <th>10314</th>\n",
              "      <td>86813</td>\n",
              "      <td>151-NG-T30</td>\n",
              "      <td>FPQ-14989</td>\n",
              "      <td>SO-51422</td>\n",
              "      <td>DN-4274</td>\n",
              "      <td>Nigeria</td>\n",
              "      <td>PMO - US</td>\n",
              "      <td>From RDC</td>\n",
              "      <td>N/A - From RDC</td>\n",
              "      <td>Air Charter</td>\n",
              "      <td>9/19/14</td>\n",
              "      <td>N/A - From RDC</td>\n",
              "      <td>30-Jun-15</td>\n",
              "      <td>15-May-15</td>\n",
              "      <td>22-May-15</td>\n",
              "      <td>ARV</td>\n",
              "      <td>Pediatric</td>\n",
              "      <td>SCMS from RDC</td>\n",
              "      <td>Lamivudine/Nevirapine/Zidovudine 30/50/60mg, d...</td>\n",
              "      <td>Lamivudine/Nevirapine/Zidovudine</td>\n",
              "      <td>Generic</td>\n",
              "      <td>30/50/60mg</td>\n",
              "      <td>Chewable/dispersible tablet - FDC</td>\n",
              "      <td>60</td>\n",
              "      <td>10340</td>\n",
              "      <td>37,224.00</td>\n",
              "      <td>3.60</td>\n",
              "      <td>0.06</td>\n",
              "      <td>Mylan (formerly Matrix) Nashik</td>\n",
              "      <td>No</td>\n",
              "      <td>See DN-4274 (ID#:84472)</td>\n",
              "      <td>See DN-4274 (ID#:84472)</td>\n",
              "      <td>38.27</td>\n",
              "    </tr>\n",
              "    <tr>\n",
              "      <th>10315</th>\n",
              "      <td>86814</td>\n",
              "      <td>151-NG-T30</td>\n",
              "      <td>FPQ-14989</td>\n",
              "      <td>SO-51424</td>\n",
              "      <td>DN-4276</td>\n",
              "      <td>Nigeria</td>\n",
              "      <td>PMO - US</td>\n",
              "      <td>From RDC</td>\n",
              "      <td>N/A - From RDC</td>\n",
              "      <td>Air Charter</td>\n",
              "      <td>9/19/14</td>\n",
              "      <td>N/A - From RDC</td>\n",
              "      <td>30-Jun-15</td>\n",
              "      <td>15-May-15</td>\n",
              "      <td>22-May-15</td>\n",
              "      <td>ARV</td>\n",
              "      <td>Adult</td>\n",
              "      <td>SCMS from RDC</td>\n",
              "      <td>Lopinavir/Ritonavir 200/50mg [Aluvia], tablets...</td>\n",
              "      <td>Lopinavir/Ritonavir</td>\n",
              "      <td>Aluvia</td>\n",
              "      <td>200/50mg</td>\n",
              "      <td>Tablet</td>\n",
              "      <td>120</td>\n",
              "      <td>70000</td>\n",
              "      <td>1,304,800.00</td>\n",
              "      <td>18.64</td>\n",
              "      <td>0.16</td>\n",
              "      <td>ABBVIE Ludwigshafen Germany</td>\n",
              "      <td>Yes</td>\n",
              "      <td>15198</td>\n",
              "      <td>26180</td>\n",
              "      <td>1,341.33</td>\n",
              "    </tr>\n",
              "    <tr>\n",
              "      <th>10316</th>\n",
              "      <td>86815</td>\n",
              "      <td>151-NG-T30</td>\n",
              "      <td>FPQ-16313</td>\n",
              "      <td>SO-51420</td>\n",
              "      <td>DN-4279</td>\n",
              "      <td>Nigeria</td>\n",
              "      <td>PMO - US</td>\n",
              "      <td>From RDC</td>\n",
              "      <td>N/A - From RDC</td>\n",
              "      <td>Air Charter</td>\n",
              "      <td>5/4/15</td>\n",
              "      <td>N/A - From RDC</td>\n",
              "      <td>2-Jun-15</td>\n",
              "      <td>15-May-15</td>\n",
              "      <td>22-May-15</td>\n",
              "      <td>ARV</td>\n",
              "      <td>Adult</td>\n",
              "      <td>SCMS from RDC</td>\n",
              "      <td>Lamivudine/Zidovudine 150/300mg, tablets, 60 Tabs</td>\n",
              "      <td>Lamivudine/Zidovudine</td>\n",
              "      <td>Generic</td>\n",
              "      <td>150/300mg</td>\n",
              "      <td>Tablet - FDC</td>\n",
              "      <td>60</td>\n",
              "      <td>15000</td>\n",
              "      <td>97,800.00</td>\n",
              "      <td>6.52</td>\n",
              "      <td>0.11</td>\n",
              "      <td>Aurobindo Unit III, India</td>\n",
              "      <td>Yes</td>\n",
              "      <td>1547</td>\n",
              "      <td>3410</td>\n",
              "      <td>115.11</td>\n",
              "    </tr>\n",
              "    <tr>\n",
              "      <th>10317</th>\n",
              "      <td>86816</td>\n",
              "      <td>151-NG-T30</td>\n",
              "      <td>FPQ-16313</td>\n",
              "      <td>SO-51440</td>\n",
              "      <td>DN-4282</td>\n",
              "      <td>Nigeria</td>\n",
              "      <td>PMO - US</td>\n",
              "      <td>From RDC</td>\n",
              "      <td>N/A - From RDC</td>\n",
              "      <td>Air</td>\n",
              "      <td>5/4/15</td>\n",
              "      <td>N/A - From RDC</td>\n",
              "      <td>30-Jun-15</td>\n",
              "      <td>22-Jun-15</td>\n",
              "      <td>29-Jun-15</td>\n",
              "      <td>ARV</td>\n",
              "      <td>Adult</td>\n",
              "      <td>SCMS from RDC</td>\n",
              "      <td>Efavirenz 600mg, tablets, 30 Tabs</td>\n",
              "      <td>Efavirenz</td>\n",
              "      <td>Generic</td>\n",
              "      <td>600mg</td>\n",
              "      <td>Tablet</td>\n",
              "      <td>30</td>\n",
              "      <td>6724</td>\n",
              "      <td>20,978.88</td>\n",
              "      <td>3.12</td>\n",
              "      <td>0.10</td>\n",
              "      <td>Strides, Bangalore, India.</td>\n",
              "      <td>No</td>\n",
              "      <td>See DN-4282 (ID#:83919)</td>\n",
              "      <td>See DN-4282 (ID#:83919)</td>\n",
              "      <td>24.69</td>\n",
              "    </tr>\n",
              "    <tr>\n",
              "      <th>10318</th>\n",
              "      <td>86817</td>\n",
              "      <td>103-ZW-T30</td>\n",
              "      <td>FPQ-15197</td>\n",
              "      <td>SO-50020</td>\n",
              "      <td>DN-4307</td>\n",
              "      <td>Zimbabwe</td>\n",
              "      <td>PMO - US</td>\n",
              "      <td>From RDC</td>\n",
              "      <td>N/A - From RDC</td>\n",
              "      <td>Truck</td>\n",
              "      <td>10/16/14</td>\n",
              "      <td>N/A - From RDC</td>\n",
              "      <td>31-Jul-15</td>\n",
              "      <td>15-Jul-15</td>\n",
              "      <td>20-Jul-15</td>\n",
              "      <td>ARV</td>\n",
              "      <td>Pediatric</td>\n",
              "      <td>SCMS from RDC</td>\n",
              "      <td>Lamivudine/Nevirapine/Zidovudine 30/50/60mg, d...</td>\n",
              "      <td>Lamivudine/Nevirapine/Zidovudine</td>\n",
              "      <td>Generic</td>\n",
              "      <td>30/50/60mg</td>\n",
              "      <td>Chewable/dispersible tablet - FDC</td>\n",
              "      <td>60</td>\n",
              "      <td>205243</td>\n",
              "      <td>738,874.80</td>\n",
              "      <td>3.60</td>\n",
              "      <td>0.06</td>\n",
              "      <td>Cipla, Goa, India</td>\n",
              "      <td>No</td>\n",
              "      <td>See DN-4307 (ID#:83920)</td>\n",
              "      <td>See DN-4307 (ID#:83920)</td>\n",
              "      <td>869.66</td>\n",
              "    </tr>\n",
              "    <tr>\n",
              "      <th>10319</th>\n",
              "      <td>86818</td>\n",
              "      <td>103-ZW-T30</td>\n",
              "      <td>FPQ-15197</td>\n",
              "      <td>SO-50020</td>\n",
              "      <td>DN-4307</td>\n",
              "      <td>Zimbabwe</td>\n",
              "      <td>PMO - US</td>\n",
              "      <td>From RDC</td>\n",
              "      <td>N/A - From RDC</td>\n",
              "      <td>Truck</td>\n",
              "      <td>10/16/14</td>\n",
              "      <td>N/A - From RDC</td>\n",
              "      <td>31-Jul-15</td>\n",
              "      <td>15-Jul-15</td>\n",
              "      <td>20-Jul-15</td>\n",
              "      <td>ARV</td>\n",
              "      <td>Pediatric</td>\n",
              "      <td>SCMS from RDC</td>\n",
              "      <td>Lamivudine/Nevirapine/Zidovudine 30/50/60mg, d...</td>\n",
              "      <td>Lamivudine/Nevirapine/Zidovudine</td>\n",
              "      <td>Generic</td>\n",
              "      <td>30/50/60mg</td>\n",
              "      <td>Chewable/dispersible tablet - FDC</td>\n",
              "      <td>60</td>\n",
              "      <td>166571</td>\n",
              "      <td>599,655.60</td>\n",
              "      <td>3.60</td>\n",
              "      <td>0.06</td>\n",
              "      <td>Mylan,  H-12 &amp; H-13, India</td>\n",
              "      <td>No</td>\n",
              "      <td>See DN-4307 (ID#:83920)</td>\n",
              "      <td>See DN-4307 (ID#:83920)</td>\n",
              "      <td>705.79</td>\n",
              "    </tr>\n",
              "    <tr>\n",
              "      <th>10320</th>\n",
              "      <td>86819</td>\n",
              "      <td>104-CI-T30</td>\n",
              "      <td>FPQ-15259</td>\n",
              "      <td>SO-50102</td>\n",
              "      <td>DN-4313</td>\n",
              "      <td>Côte d'Ivoire</td>\n",
              "      <td>PMO - US</td>\n",
              "      <td>From RDC</td>\n",
              "      <td>N/A - From RDC</td>\n",
              "      <td>Truck</td>\n",
              "      <td>10/24/14</td>\n",
              "      <td>N/A - From RDC</td>\n",
              "      <td>31-Jul-15</td>\n",
              "      <td>6-Aug-15</td>\n",
              "      <td>7-Aug-15</td>\n",
              "      <td>ARV</td>\n",
              "      <td>Adult</td>\n",
              "      <td>SCMS from RDC</td>\n",
              "      <td>Lamivudine/Zidovudine 150/300mg, tablets, 60 Tabs</td>\n",
              "      <td>Lamivudine/Zidovudine</td>\n",
              "      <td>Generic</td>\n",
              "      <td>150/300mg</td>\n",
              "      <td>Tablet - FDC</td>\n",
              "      <td>60</td>\n",
              "      <td>21072</td>\n",
              "      <td>137,389.44</td>\n",
              "      <td>6.52</td>\n",
              "      <td>0.11</td>\n",
              "      <td>Hetero Unit III Hyderabad IN</td>\n",
              "      <td>No</td>\n",
              "      <td>See DN-4313 (ID#:83921)</td>\n",
              "      <td>See DN-4313 (ID#:83921)</td>\n",
              "      <td>161.71</td>\n",
              "    </tr>\n",
              "    <tr>\n",
              "      <th>10321</th>\n",
              "      <td>86821</td>\n",
              "      <td>110-ZM-T30</td>\n",
              "      <td>FPQ-14784</td>\n",
              "      <td>SO-49600</td>\n",
              "      <td>DN-4316</td>\n",
              "      <td>Zambia</td>\n",
              "      <td>PMO - US</td>\n",
              "      <td>From RDC</td>\n",
              "      <td>N/A - From RDC</td>\n",
              "      <td>Truck</td>\n",
              "      <td>8/12/14</td>\n",
              "      <td>N/A - From RDC</td>\n",
              "      <td>31-Aug-15</td>\n",
              "      <td>25-Aug-15</td>\n",
              "      <td>3-Sep-15</td>\n",
              "      <td>ARV</td>\n",
              "      <td>Adult</td>\n",
              "      <td>SCMS from RDC</td>\n",
              "      <td>Efavirenz/Lamivudine/Tenofovir Disoproxil Fuma...</td>\n",
              "      <td>Efavirenz/Lamivudine/Tenofovir Disoproxil Fuma...</td>\n",
              "      <td>Generic</td>\n",
              "      <td>600/300/300mg</td>\n",
              "      <td>Tablet - FDC</td>\n",
              "      <td>30</td>\n",
              "      <td>514526</td>\n",
              "      <td>5,140,114.74</td>\n",
              "      <td>9.99</td>\n",
              "      <td>0.33</td>\n",
              "      <td>Cipla Ltd A-42 MIDC Mahar. IN</td>\n",
              "      <td>No</td>\n",
              "      <td>Weight Captured Separately</td>\n",
              "      <td>Freight Included in Commodity Cost</td>\n",
              "      <td>5,284.04</td>\n",
              "    </tr>\n",
              "    <tr>\n",
              "      <th>10322</th>\n",
              "      <td>86822</td>\n",
              "      <td>200-ZW-T30</td>\n",
              "      <td>FPQ-16523</td>\n",
              "      <td>SO-51680</td>\n",
              "      <td>DN-4334</td>\n",
              "      <td>Zimbabwe</td>\n",
              "      <td>PMO - US</td>\n",
              "      <td>From RDC</td>\n",
              "      <td>N/A - From RDC</td>\n",
              "      <td>Truck</td>\n",
              "      <td>7/1/15</td>\n",
              "      <td>N/A - From RDC</td>\n",
              "      <td>9-Sep-15</td>\n",
              "      <td>4-Aug-15</td>\n",
              "      <td>11-Aug-15</td>\n",
              "      <td>ARV</td>\n",
              "      <td>Adult</td>\n",
              "      <td>SCMS from RDC</td>\n",
              "      <td>Lamivudine/Zidovudine 150/300mg, tablets, 60 Tabs</td>\n",
              "      <td>Lamivudine/Zidovudine</td>\n",
              "      <td>Generic</td>\n",
              "      <td>150/300mg</td>\n",
              "      <td>Tablet - FDC</td>\n",
              "      <td>60</td>\n",
              "      <td>17465</td>\n",
              "      <td>113,871.80</td>\n",
              "      <td>6.52</td>\n",
              "      <td>0.11</td>\n",
              "      <td>Mylan (formerly Matrix) Nashik</td>\n",
              "      <td>Yes</td>\n",
              "      <td>1392</td>\n",
              "      <td>Freight Included in Commodity Cost</td>\n",
              "      <td>134.03</td>\n",
              "    </tr>\n",
              "    <tr>\n",
              "      <th>10323</th>\n",
              "      <td>86823</td>\n",
              "      <td>103-ZW-T30</td>\n",
              "      <td>FPQ-15197</td>\n",
              "      <td>SO-50022</td>\n",
              "      <td>DN-4336</td>\n",
              "      <td>Zimbabwe</td>\n",
              "      <td>PMO - US</td>\n",
              "      <td>From RDC</td>\n",
              "      <td>N/A - From RDC</td>\n",
              "      <td>Truck</td>\n",
              "      <td>10/16/14</td>\n",
              "      <td>N/A - From RDC</td>\n",
              "      <td>31-Aug-15</td>\n",
              "      <td>4-Aug-15</td>\n",
              "      <td>11-Aug-15</td>\n",
              "      <td>ARV</td>\n",
              "      <td>Pediatric</td>\n",
              "      <td>SCMS from RDC</td>\n",
              "      <td>Lamivudine/Zidovudine 30/60mg, dispersible tab...</td>\n",
              "      <td>Lamivudine/Zidovudine</td>\n",
              "      <td>Generic</td>\n",
              "      <td>30/60mg</td>\n",
              "      <td>Chewable/dispersible tablet - FDC</td>\n",
              "      <td>60</td>\n",
              "      <td>36639</td>\n",
              "      <td>72,911.61</td>\n",
              "      <td>1.99</td>\n",
              "      <td>0.03</td>\n",
              "      <td>Cipla, Goa, India</td>\n",
              "      <td>No</td>\n",
              "      <td>Weight Captured Separately</td>\n",
              "      <td>Freight Included in Commodity Cost</td>\n",
              "      <td>85.82</td>\n",
              "    </tr>\n",
              "  </tbody>\n",
              "</table>\n",
              "</div>\n",
              "      <button class=\"colab-df-convert\" onclick=\"convertToInteractive('df-46debb03-c3ac-4696-ba15-c918c23a369f')\"\n",
              "              title=\"Convert this dataframe to an interactive table.\"\n",
              "              style=\"display:none;\">\n",
              "        \n",
              "  <svg xmlns=\"http://www.w3.org/2000/svg\" height=\"24px\"viewBox=\"0 0 24 24\"\n",
              "       width=\"24px\">\n",
              "    <path d=\"M0 0h24v24H0V0z\" fill=\"none\"/>\n",
              "    <path d=\"M18.56 5.44l.94 2.06.94-2.06 2.06-.94-2.06-.94-.94-2.06-.94 2.06-2.06.94zm-11 1L8.5 8.5l.94-2.06 2.06-.94-2.06-.94L8.5 2.5l-.94 2.06-2.06.94zm10 10l.94 2.06.94-2.06 2.06-.94-2.06-.94-.94-2.06-.94 2.06-2.06.94z\"/><path d=\"M17.41 7.96l-1.37-1.37c-.4-.4-.92-.59-1.43-.59-.52 0-1.04.2-1.43.59L10.3 9.45l-7.72 7.72c-.78.78-.78 2.05 0 2.83L4 21.41c.39.39.9.59 1.41.59.51 0 1.02-.2 1.41-.59l7.78-7.78 2.81-2.81c.8-.78.8-2.07 0-2.86zM5.41 20L4 18.59l7.72-7.72 1.47 1.35L5.41 20z\"/>\n",
              "  </svg>\n",
              "      </button>\n",
              "      \n",
              "  <style>\n",
              "    .colab-df-container {\n",
              "      display:flex;\n",
              "      flex-wrap:wrap;\n",
              "      gap: 12px;\n",
              "    }\n",
              "\n",
              "    .colab-df-convert {\n",
              "      background-color: #E8F0FE;\n",
              "      border: none;\n",
              "      border-radius: 50%;\n",
              "      cursor: pointer;\n",
              "      display: none;\n",
              "      fill: #1967D2;\n",
              "      height: 32px;\n",
              "      padding: 0 0 0 0;\n",
              "      width: 32px;\n",
              "    }\n",
              "\n",
              "    .colab-df-convert:hover {\n",
              "      background-color: #E2EBFA;\n",
              "      box-shadow: 0px 1px 2px rgba(60, 64, 67, 0.3), 0px 1px 3px 1px rgba(60, 64, 67, 0.15);\n",
              "      fill: #174EA6;\n",
              "    }\n",
              "\n",
              "    [theme=dark] .colab-df-convert {\n",
              "      background-color: #3B4455;\n",
              "      fill: #D2E3FC;\n",
              "    }\n",
              "\n",
              "    [theme=dark] .colab-df-convert:hover {\n",
              "      background-color: #434B5C;\n",
              "      box-shadow: 0px 1px 3px 1px rgba(0, 0, 0, 0.15);\n",
              "      filter: drop-shadow(0px 1px 2px rgba(0, 0, 0, 0.3));\n",
              "      fill: #FFFFFF;\n",
              "    }\n",
              "  </style>\n",
              "\n",
              "      <script>\n",
              "        const buttonEl =\n",
              "          document.querySelector('#df-46debb03-c3ac-4696-ba15-c918c23a369f button.colab-df-convert');\n",
              "        buttonEl.style.display =\n",
              "          google.colab.kernel.accessAllowed ? 'block' : 'none';\n",
              "\n",
              "        async function convertToInteractive(key) {\n",
              "          const element = document.querySelector('#df-46debb03-c3ac-4696-ba15-c918c23a369f');\n",
              "          const dataTable =\n",
              "            await google.colab.kernel.invokeFunction('convertToInteractive',\n",
              "                                                     [key], {});\n",
              "          if (!dataTable) return;\n",
              "\n",
              "          const docLinkHtml = 'Like what you see? Visit the ' +\n",
              "            '<a target=\"_blank\" href=https://colab.research.google.com/notebooks/data_table.ipynb>data table notebook</a>'\n",
              "            + ' to learn more about interactive tables.';\n",
              "          element.innerHTML = '';\n",
              "          dataTable['output_type'] = 'display_data';\n",
              "          await google.colab.output.renderOutput(dataTable, element);\n",
              "          const docLink = document.createElement('div');\n",
              "          docLink.innerHTML = docLinkHtml;\n",
              "          element.appendChild(docLink);\n",
              "        }\n",
              "      </script>\n",
              "    </div>\n",
              "  </div>\n",
              "  "
            ]
          },
          "metadata": {},
          "execution_count": 10
        }
      ]
    },
    {
      "cell_type": "markdown",
      "source": [
        "## Total 10 Country wise count with graph"
      ],
      "metadata": {
        "id": "ExDDb03fHTDV"
      }
    },
    {
      "cell_type": "code",
      "source": [
        "DataSet = DataSet.dropna()\n",
        "ItemCount = DataSet[\"Country\"].value_counts().nlargest(10)\n",
        "print(\"Top 10 Countries Wise Count \\n\")\n",
        "print(ItemCount)\n",
        "sn.set_context(\"talk\",font_scale=1)\n",
        "plt.figure(figsize=(22,6))\n",
        "sn.countplot(DataSet['Country'],order = DataSet['Country'].value_counts().nlargest(10).index)\n",
        "plt.title('Top 10 Countries Wise Count \\n')\n",
        "plt.ylabel('Total Count')\n",
        "plt.xlabel('Country Name')"
      ],
      "metadata": {
        "id": "cyj12vak0ndX",
        "colab": {
          "base_uri": "https://localhost:8080/",
          "height": 782
        },
        "outputId": "b69f741a-a222-4e49-b9ea-6a7c4848f638"
      },
      "execution_count": 15,
      "outputs": [
        {
          "output_type": "stream",
          "name": "stdout",
          "text": [
            "Top 10 Countries Wise Count \n",
            "\n",
            "South Africa     1406\n",
            "Nigeria          1194\n",
            "Côte d'Ivoire    1083\n",
            "Uganda            779\n",
            "Vietnam           688\n",
            "Zambia            683\n",
            "Haiti             655\n",
            "Mozambique        631\n",
            "Zimbabwe          538\n",
            "Tanzania          519\n",
            "Name: Country, dtype: int64\n"
          ]
        },
        {
          "output_type": "stream",
          "name": "stderr",
          "text": [
            "/usr/local/lib/python3.7/dist-packages/seaborn/_decorators.py:43: FutureWarning:\n",
            "\n",
            "Pass the following variable as a keyword arg: x. From version 0.12, the only valid positional argument will be `data`, and passing other arguments without an explicit keyword will result in an error or misinterpretation.\n",
            "\n"
          ]
        },
        {
          "output_type": "execute_result",
          "data": {
            "text/plain": [
              "Text(0.5, 0, 'Country Name')"
            ]
          },
          "metadata": {},
          "execution_count": 15
        },
        {
          "output_type": "display_data",
          "data": {
            "text/plain": [
              "<Figure size 1584x432 with 1 Axes>"
            ],
            "image/png": "[encoded data removed]"
          },
          "metadata": {
            "needs_background": "light"
          }
        }
      ]
    },
    {
      "cell_type": "markdown",
      "source": [
        "## Total Pack Price for Top 15 Countries with graph"
      ],
      "metadata": {
        "id": "O5gP7AuCI5ID"
      }
    },
    {
      "cell_type": "code",
      "source": [
        "TotalPrice = DataSet.groupby(['Country'])['Pack Price'].sum().nlargest(15)\n",
        "print(\"Total Pack Price for Top 15 Countries\\n\")\n",
        "print(TotalPrice)\n",
        "plt.figure(figsize=(22,6))\n",
        "GraphData=DataSet.groupby(['Country'])['Pack Price'].sum().nlargest(15)\n",
        "GraphData.plot(kind='bar')\n",
        "plt.ylabel('Total Pack Price')\n",
        "plt.xlabel('Country Name')"
      ],
      "metadata": {
        "colab": {
          "base_uri": "https://localhost:8080/",
          "height": 844
        },
        "id": "TK3l-CxyHtg-",
        "outputId": "bafe2939-2116-46a1-e68d-f8fa88b58cbd"
      },
      "execution_count": 16,
      "outputs": [
        {
          "output_type": "stream",
          "name": "stdout",
          "text": [
            "Total Pack Price for Top 15 Countries\n",
            "\n",
            "Country\n",
            "Nigeria                    25,620.72\n",
            "South Africa               24,318.90\n",
            "Côte d'Ivoire              22,882.35\n",
            "Haiti                      19,521.30\n",
            "Uganda                     15,664.08\n",
            "Mozambique                 14,092.40\n",
            "Vietnam                    11,963.78\n",
            "Zambia                     11,889.67\n",
            "Tanzania                   11,047.72\n",
            "Rwanda                      7,724.29\n",
            "Botswana                    7,052.54\n",
            "Zimbabwe                    6,563.56\n",
            "Kenya                       6,349.14\n",
            "Congo, DRC                  6,032.41\n",
            "Guyana                      5,659.35\n",
            "Name: Pack Price, dtype: float64\n"
          ]
        },
        {
          "output_type": "execute_result",
          "data": {
            "text/plain": [
              "Text(0.5, 0, 'Country Name')"
            ]
          },
          "metadata": {},
          "execution_count": 16
        },
        {
          "output_type": "display_data",
          "data": {
            "text/plain": [
              "<Figure size 1584x432 with 1 Axes>"
            ],
            "image/png": "[encoded data removed]"
          },
          "metadata": {
            "needs_background": "light"
          }
        }
      ]
    },
    {
      "cell_type": "markdown",
      "source": [
        "## First Line Designation Wise Count¶"
      ],
      "metadata": {
        "id": "DHbcO2ozJYwc"
      }
    },
    {
      "cell_type": "code",
      "source": [
        "sn.set_context(\"talk\",font_scale=1)\n",
        "plt.figure(figsize=(5,6))\n",
        "sn.countplot(DataSet['First Line Designation'],order = DataSet['First Line Designation'].value_counts().nlargest(10).index)\n",
        "plt.title('First Line Designation Wise Count \\n')\n",
        "plt.ylabel('Total Count')\n",
        "plt.xlabel('First Line Designation')"
      ],
      "metadata": {
        "colab": {
          "base_uri": "https://localhost:8080/",
          "height": 557
        },
        "id": "2czbt-mlJB66",
        "outputId": "1bb19938-ba1d-4b53-e39e-890ffae07277"
      },
      "execution_count": 17,
      "outputs": [
        {
          "output_type": "stream",
          "name": "stderr",
          "text": [
            "/usr/local/lib/python3.7/dist-packages/seaborn/_decorators.py:43: FutureWarning:\n",
            "\n",
            "Pass the following variable as a keyword arg: x. From version 0.12, the only valid positional argument will be `data`, and passing other arguments without an explicit keyword will result in an error or misinterpretation.\n",
            "\n"
          ]
        },
        {
          "output_type": "execute_result",
          "data": {
            "text/plain": [
              "Text(0.5, 0, 'First Line Designation')"
            ]
          },
          "metadata": {},
          "execution_count": 17
        },
        {
          "output_type": "display_data",
          "data": {
            "text/plain": [
              "<Figure size 360x432 with 1 Axes>"
            ],
            "image/png": "[encoded data removed]"
          },
          "metadata": {
            "needs_background": "light"
          }
        }
      ]
    },
    {
      "cell_type": "markdown",
      "source": [
        "## Shipment Mode percentage wise Pie Chart"
      ],
      "metadata": {
        "id": "MDI6LLbnLOrw"
      }
    },
    {
      "cell_type": "code",
      "source": [
        "ShippingMode = DataSet[\"Shipment Mode\"].value_counts()\n",
        "print(ShippingMode)\n",
        "label = (np.array(ShippingMode.index))\n",
        "size = (np.array((ShippingMode / ShippingMode.sum())*100))\n",
        "labels = label.tolist()\n",
        "data = size.tolist()\n",
        "# Creating plot\n",
        "fig = plt.figure(figsize =(15, 10))\n",
        "plt.pie(data, labels = labels,autopct='%1.1f%%')\n",
        " \n",
        "# show plot\n",
        "plt.show()"
      ],
      "metadata": {
        "colab": {
          "base_uri": "https://localhost:8080/",
          "height": 679
        },
        "id": "4yK72FFKMyAo",
        "outputId": "26dd57ac-83f1-40e7-a247-cc32c752d5ba"
      },
      "execution_count": 35,
      "outputs": [
        {
          "output_type": "stream",
          "name": "stdout",
          "text": [
            "Air            6113\n",
            "Truck          2830\n",
            "Air Charter     650\n",
            "Ocean           371\n",
            "0               360\n",
            "Name: Shipment Mode, dtype: int64\n"
          ]
        },
        {
          "output_type": "display_data",
          "data": {
            "text/plain": [
              "<Figure size 1080x720 with 1 Axes>"
            ],
            "image/png": "[encoded data removed]"
          },
          "metadata": {}
        }
      ]
    },
    {
      "cell_type": "markdown",
      "source": [
        "## Unquie Manufacturing Site Names"
      ],
      "metadata": {
        "id": "A4T6fdl_SjJj"
      }
    },
    {
      "cell_type": "code",
      "source": [
        "UniqueItem = DataSet['Manufacturing Site'].unique()\n",
        "print(\"All Unique Manufacturing Site \\n\")\n",
        "print(UniqueItem)"
      ],
      "metadata": {
        "colab": {
          "base_uri": "https://localhost:8080/"
        },
        "id": "tC0b-AgjP_MK",
        "outputId": "54b733ce-b00a-4840-d924-d881d901946e"
      },
      "execution_count": 36,
      "outputs": [
        {
          "output_type": "stream",
          "name": "stdout",
          "text": [
            "All Unique Manufacturing Site \n",
            "\n",
            "['Ranbaxy Fine Chemicals LTD' 'Aurobindo Unit III, India'\n",
            " 'ABBVIE GmbH & Co.KG Wiesbaden' 'Ranbaxy, Paonta Shahib, India'\n",
            " 'MSD South Granville Australia' \"ABBVIE (Abbott) St. P'burg USA\"\n",
            " 'ABBVIE Ludwigshafen Germany' 'Trinity Biotech, Plc'\n",
            " 'EY Laboratories, USA' 'Cipla, Goa, India' 'BMS Meymac, France'\n",
            " 'Premier Med. Corp Ltd. India' 'Chembio Diagnostics Sys. Inc.'\n",
            " 'Inverness Japan' 'Pacific Biotech, Thailand'\n",
            " 'Standard Diagnostics, Korea' 'GSK Mississauga (Canada)'\n",
            " 'Gilead(Nycomed) Oranienburg DE' 'Bio-Rad Laboratories'\n",
            " 'Mylan (formerly Matrix) Nashik' 'Roche Basel' 'GSK Ware (UK)'\n",
            " 'Novartis Pharma AG, Switzerland' 'BI, Ingelheim, Germany'\n",
            " 'Not Applicable' 'Ipca Dadra/Nagar Haveli IN' 'MSD, Haarlem, NL'\n",
            " 'Aspen-OSD, Port Elizabeth, SA' 'ABBVIE (Abbott) Logis. UK'\n",
            " 'Gland Pharma Ltd Pally Factory' 'GSK Aranda'\n",
            " 'Hetero Unit III Hyderabad IN' 'ABBVIE (Abbott) France'\n",
            " 'Strides, Bangalore, India.' 'ABBSP' 'Cipla, Patalganga, India'\n",
            " 'GSK Cape Town Factory (South Africa)' \"MSD Midrand, J'burg, SA\"\n",
            " 'KHB Test Kit Facility, Shanghai China' 'bioLytical Laboratories'\n",
            " 'Inverness USA' 'Boehringer Ing., Koropi, GR' 'GSK Crawley'\n",
            " 'OMEGA Diagnostics, UK' 'Roche Madrid'\n",
            " 'BUNDI INTERNATIONAL DIAGNOSTICS LTD' 'INVERNESS ORGENICS LINE'\n",
            " 'Novartis Pharma Suffern, USA' 'Micro Labs Ltd. (Brown & Burk), India'\n",
            " 'Meditab (for Cipla) Daman IN' 'Medopharm Malur Factory, INDIA'\n",
            " 'ABBVIE (Abbott) Japan Co. Ltd.' 'MSD Elkton USA'\n",
            " 'Orasure Technologies, Inc USA'\n",
            " 'Weifa A.S., Hausmanngt. 6, P.O. Box 9113 GrÃ¸nland, 0133, Oslo, Norway'\n",
            " 'MSD Manati, Puerto Rico, (USA)' 'MSD Patheon, Canada'\n",
            " 'Emcure Plot No.P-2, I.T-B.T. Park, Phase II, MIDC, Hinjwadi, Pune, India'\n",
            " 'Alere Medical Co., Ltd.' 'Premier Medical Corporation'\n",
            " 'ABBVIE Labs North Chicago US' 'Janssen-Cilag, Latina, IT'\n",
            " 'Aurobindo Unit VII, IN' 'Micro labs, Verna, Goa, India'\n",
            " 'Orasure Technologies, Inc' 'Mylan,  H-12 & H-13, India'\n",
            " 'Hetero, Jadcherla, unit 5, IN' 'Bristol-Myers Squibb Anagni IT'\n",
            " 'Cipla Ltd A-42 MIDC Mahar. IN' 'Medochemie Factory A, CY'\n",
            " 'Boehringer Ingelheim Roxane US' 'BMS Evansville, US'\n",
            " 'GSK, U1, Poznan, Poland' 'Janssen Ortho LLC, Puerto Rico'\n",
            " 'Micro Labs, Hosur, India' 'Remedica, Limassol, Cyprus' 'INVERNESS ANY'\n",
            " 'Guilin OSD site, No 17, China' 'Cipla, Kurkumbh, India'\n",
            " 'GSK Barnard Castle UK' 'Gland Pharma, Hyderabad, IN' 'Access BIO, L.C.'\n",
            " 'Human Diagnostic' 'Mepro Pharm Wadhwan Unit II'\n",
            " 'Ranbaxy per Shasun Pharma Ltd' 'MedMira Inc.'\n",
            " 'Ranbaxy per Shasun Pharma' 'Macleods Daman Plant INDIA']\n"
          ]
        }
      ]
    },
    {
      "cell_type": "markdown",
      "source": [
        "## Shipment Mode, Min and Mean value for Air"
      ],
      "metadata": {
        "id": "OfdwPNkWSvLu"
      }
    },
    {
      "cell_type": "code",
      "source": [
        "ItemData=DataSet[DataSet['Shipment Mode']=='Air']\n",
        "print (\"The Max Air Shipment Mode is :\",ItemData['Unit of Measure (Per Pack)'].max())\n",
        "print (\"The Min Air Shipment is :\",ItemData['Unit of Measure (Per Pack)'].min())\n",
        "ItemTypeMean = ItemData['Unit of Measure (Per Pack)'].mean()\n",
        "print (\"The Mean Air Shipment is :\", round(ItemTypeMean,2))"
      ],
      "metadata": {
        "colab": {
          "base_uri": "https://localhost:8080/"
        },
        "id": "ZOp1IqwQSnJC",
        "outputId": "afa86d17-735b-4ad3-ba2c-37249442c724"
      },
      "execution_count": 37,
      "outputs": [
        {
          "output_type": "stream",
          "name": "stdout",
          "text": [
            "The Max Air Shipment Mode is : 1000\n",
            "The Min Air Shipment is : 1\n",
            "The Mean Air Shipment is : 82.34\n"
          ]
        }
      ]
    },
    {
      "cell_type": "markdown",
      "source": [
        "## Top 10 Manufacturing Site for all Shipment Mode with Graph"
      ],
      "metadata": {
        "id": "nK9LBJMVS3w5"
      }
    },
    {
      "cell_type": "code",
      "source": [
        "plt.figure(figsize=(22,6))\n",
        "TopFiveManufacturingSite=DataSet.groupby('Manufacturing Site').size().nlargest(10)\n",
        "print(TopFiveManufacturingSite)\n",
        "TopFiveManufacturingSite.plot(kind='bar')\n",
        "plt.title('Top 10 Manufacturing Site \\n')\n",
        "plt.ylabel('Total Count')\n",
        "plt.xlabel('Manufacturing Site Name')"
      ],
      "metadata": {
        "colab": {
          "base_uri": "https://localhost:8080/",
          "height": 919
        },
        "id": "Z2cbJ23dSzOA",
        "outputId": "2f143868-b3b3-4937-a9bf-92b7e75322fe"
      },
      "execution_count": 38,
      "outputs": [
        {
          "output_type": "stream",
          "name": "stdout",
          "text": [
            "Manufacturing Site\n",
            "Aurobindo Unit III, India         3172\n",
            "Mylan (formerly Matrix) Nashik    1415\n",
            "Hetero Unit III Hyderabad IN       869\n",
            "Cipla, Goa, India                  665\n",
            "Strides, Bangalore, India.         540\n",
            "Alere Medical Co., Ltd.            481\n",
            "Trinity Biotech, Plc               405\n",
            "ABBVIE Ludwigshafen Germany        366\n",
            "Inverness Japan                    345\n",
            "ABBVIE (Abbott) Logis. UK          219\n",
            "dtype: int64\n"
          ]
        },
        {
          "output_type": "execute_result",
          "data": {
            "text/plain": [
              "Text(0.5, 0, 'Manufacturing Site Name')"
            ]
          },
          "metadata": {},
          "execution_count": 38
        },
        {
          "output_type": "display_data",
          "data": {
            "text/plain": [
              "<Figure size 1584x432 with 1 Axes>"
            ],
            "image/png": "[encoded data removed]"
          },
          "metadata": {
            "needs_background": "light"
          }
        }
      ]
    },
    {
      "cell_type": "markdown",
      "source": [
        "## Top 10 Manufacturing Site for Air Shipment Mode with Graph¶"
      ],
      "metadata": {
        "id": "UHZz487cTJEF"
      }
    },
    {
      "cell_type": "code",
      "source": [
        "# Top 10 Air Shipment Mode in Bar Chart\n",
        "ItemData=DataSet[DataSet['Shipment Mode']=='Air']\n",
        "DataSet[DataSet[\"Shipment Mode\"]=='Air']['Manufacturing Site'].value_counts()[0:10].to_frame().plot.bar(figsize=(22,6))\n",
        "ItemSupplier = DataSet[DataSet[\"Shipment Mode\"]=='Air']['Manufacturing Site'].value_counts()[0:10]\n",
        "print(\"Top 10 Air Manufacturing Site \\n\")\n",
        "print(ItemSupplier)\n",
        "plt.title('Top 10 Air Manufacturing Site\\n')\n",
        "plt.ylabel('Air Count')\n",
        "plt.xlabel('Manufacturing Site')"
      ],
      "metadata": {
        "colab": {
          "base_uri": "https://localhost:8080/",
          "height": 936
        },
        "id": "PKPIUe28TCe9",
        "outputId": "312917e3-d7c5-4460-c597-8a0d5cb821c9"
      },
      "execution_count": 39,
      "outputs": [
        {
          "output_type": "stream",
          "name": "stdout",
          "text": [
            "Top 10 Air Manufacturing Site \n",
            "\n",
            "Aurobindo Unit III, India         1694\n",
            "Mylan (formerly Matrix) Nashik     695\n",
            "Alere Medical Co., Ltd.            473\n",
            "Hetero Unit III Hyderabad IN       417\n",
            "Trinity Biotech, Plc               383\n",
            "Inverness Japan                    320\n",
            "ABBVIE Ludwigshafen Germany        285\n",
            "Cipla, Goa, India                  274\n",
            "Strides, Bangalore, India.         256\n",
            "ABBVIE (Abbott) Logis. UK          150\n",
            "Name: Manufacturing Site, dtype: int64\n"
          ]
        },
        {
          "output_type": "execute_result",
          "data": {
            "text/plain": [
              "Text(0.5, 0, 'Manufacturing Site')"
            ]
          },
          "metadata": {},
          "execution_count": 39
        },
        {
          "output_type": "display_data",
          "data": {
            "text/plain": [
              "<Figure size 1584x432 with 1 Axes>"
            ],
            "image/png": "[encoded data removed]"
          },
          "metadata": {
            "needs_background": "light"
          }
        }
      ]
    },
    {
      "cell_type": "markdown",
      "source": [
        "## Shipment Mode and Pack Price in Bar Plot Graph"
      ],
      "metadata": {
        "id": "WDqS1Yc4Tq-H"
      }
    },
    {
      "cell_type": "code",
      "source": [
        "plt.subplots(figsize = (18,6))\n",
        "plt.xticks(rotation = 90)\n",
        "sn.barplot('Shipment Mode','Pack Price', data = DataSet)\n",
        "plt.show()"
      ],
      "metadata": {
        "colab": {
          "base_uri": "https://localhost:8080/",
          "height": 571
        },
        "id": "9QpZhDgyTYea",
        "outputId": "d64195e3-1dab-4814-878b-491ec1588925"
      },
      "execution_count": 40,
      "outputs": [
        {
          "output_type": "stream",
          "name": "stderr",
          "text": [
            "/usr/local/lib/python3.7/dist-packages/seaborn/_decorators.py:43: FutureWarning:\n",
            "\n",
            "Pass the following variables as keyword args: x, y. From version 0.12, the only valid positional argument will be `data`, and passing other arguments without an explicit keyword will result in an error or misinterpretation.\n",
            "\n"
          ]
        },
        {
          "output_type": "display_data",
          "data": {
            "text/plain": [
              "<Figure size 1296x432 with 1 Axes>"
            ],
            "image/png": "[encoded data removed]"
          },
          "metadata": {
            "needs_background": "light"
          }
        }
      ]
    },
    {
      "cell_type": "markdown",
      "source": [
        "## **Conclusion**\n",
        "\n",
        "Top Country for Pack Price : Nigeria - 25,620.72\n",
        "\n",
        "Top Shipping Mode : Air\n",
        "\n",
        "The Max Air Shipment Mode is : 1000\n",
        "\n",
        "The Min Air Shipment is : 1\n",
        "\n",
        "The Mean Air Shipment is : 82.35\n",
        "\n",
        "Top Manufacturing Site : Aurobindo Unit III, India - 3172\n",
        "\n",
        "Top Air Manufacturing Site : Aurobindo Unit III, India - 1694"
      ],
      "metadata": {
        "id": "-Qka8U6pT6Z_"
      }
    },
    {
      "cell_type": "code",
      "source": [
        ""
      ],
      "metadata": {
        "id": "xMf8Ef14T1ym"
      },
      "execution_count": null,
      "outputs": []
    }
  ]
}